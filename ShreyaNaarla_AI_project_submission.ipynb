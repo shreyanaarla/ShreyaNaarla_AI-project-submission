{
 "cells": [
  {
   "cell_type": "markdown",
   "metadata": {
    "colab_type": "text",
    "id": "view-in-github"
   },
   "source": [
    "<a href=\"https://colab.research.google.com/github/shreyanaarla/ShreyaNaarla_AI-project-submission/blob/main/ShreyaNaarla_AI_project_submission.ipynb\" target=\"_parent\"><img src=\"https://colab.research.google.com/assets/colab-badge.svg\" alt=\"Open In Colab\"/></a>"
   ]
  },
  {
   "cell_type": "markdown",
   "metadata": {
    "id": "0LT4FTkIevHQ"
   },
   "source": [
    "Task 1"
   ]
  },
  {
   "cell_type": "code",
   "execution_count": null,
   "metadata": {
    "id": "Sp4G7Au0sKAc"
   },
   "outputs": [],
   "source": [
    "import numpy as np\n",
    "import pandas as pd\n",
    "import matplotlib.pyplot as plt\n",
    "import seaborn as sns"
   ]
  },
  {
   "cell_type": "code",
   "execution_count": null,
   "metadata": {
    "id": "PEepYmCds702"
   },
   "outputs": [],
   "source": [
    "data = pd.read_csv('test.csv')"
   ]
  },
  {
   "cell_type": "code",
   "execution_count": null,
   "metadata": {
    "colab": {
     "base_uri": "https://localhost:8080/",
     "height": 206
    },
    "id": "U8eROXK4tKyX",
    "outputId": "836f1cee-0ece-41c2-a8aa-dc01249c7db7"
   },
   "outputs": [],
   "source": [
    "data.head()"
   ]
  },
  {
   "cell_type": "code",
   "execution_count": null,
   "metadata": {
    "colab": {
     "base_uri": "https://localhost:8080/",
     "height": 1000,
     "referenced_widgets": [
      "dd41e2e3d892411bbe40ce9b4b26d862",
      "c8ad9333e5ca4c35a8323ef7fe7df138",
      "61e333bcf66b4a2ab7a5745af9fb3e2f",
      "232c94fd72de45bbb1511ece307f4d8f",
      "9ca7c212f9a94318bbefc05fd2792cec",
      "97836a6ef5d44e3fafe50d401691b73b",
      "d574f7d99072432fa1c5ab1519980666",
      "d12a064fe5d14ac3a39f72a54d1975e1",
      "98be7fd657764b938a76605bb4b42243",
      "ecb0ea0711004a609e7a2b5bbefe9866",
      "3110b3690ee745bd9e42b2a61f8e3588",
      "d077f5a17e0e4d71b962729c39e9c701",
      "5d540c4217134803ae6a6ac4fab365e2",
      "f6e3230294914a9093ee9a9e7ab301bd",
      "5c66a2452d6c46d19a1be382050c9c89",
      "e153e9638ca5485395794defc74daea2",
      "a081a8ce35f049f49ec5a6b372d41a98",
      "a3709c59f16343b893ff7577293adef4",
      "b28376f78a034ac6b5778e3d783831f5",
      "a5245355fffa40bea8544c54d21993ef",
      "0211036c194c472aba0bb893ca8dc4ae",
      "d333bdaef61f4790b55ce05b0504ad12",
      "94b04a613bb44211a1f32f2ca53fb4e8",
      "35937c40e9424a68a503b312f95b1934",
      "07a773d41f564786a1425403cedeec19",
      "4582527c52eb44b98b317ca9f585a878",
      "e28cb3051fdc446ead64576cd15e508d",
      "dafbd32a243641c78eb3e99c0d92f284",
      "8cf33485eb4448b18a6c8d292f8c5823",
      "2acc62a50d42428f92d87d345f4e970c",
      "73555e544cc04aa3a9f99ce1e8ac4a6c",
      "8942bfc48f3e49eaa5be96358e4036a2",
      "c58d6a6fadf543da9ad452a23acb290f",
      "b8c2ab604513410181a85a5abd261dc9",
      "4c88f4ba1daa446bb01c639c78cecdcc",
      "2cda07dbe58a4ece857b4c8ae595a24e",
      "2451a2927b794416838db17cb4302e0f",
      "e8cd952346ce4fe4abd5112b6ce4b7aa",
      "062a17385fc04d40b4f5cfc27d60d23a",
      "d040336ecb164245a716250bb8c78aa9",
      "c50a2b32091e444b8a3c488fca554f54",
      "d2784ab1ac9046998e03e1f815adfd97",
      "8a2e5b8b7cec47f59eb9aac988347a53",
      "0fe443abe8d94806bd7c53acfd42f860"
     ]
    },
    "id": "6IjsvacFtxgA",
    "outputId": "adde4181-14df-45cd-8b8c-b42865b57550"
   },
   "outputs": [],
   "source": [
    "!pip install transformers torch\n",
    "from transformers import pipeline\n",
    "\n",
    "# Initialize the sentiment analysis pipeline\n",
    "sentiment_analyzer = pipeline('sentiment-analysis')\n",
    "\n",
    "# Define a function to get the sentiment label\n",
    "def get_sentiment_label(text):\n",
    "  result = sentiment_analyzer(text)\n",
    "  label = result[0]['label']\n",
    "  score = result[0]['score']\n",
    "  if label == 'POSITIVE' and score >= 0.5:\n",
    "    return 'Positive'\n",
    "  elif label == 'NEGATIVE' and score >= 0.5:\n",
    "    return 'Negative'\n",
    "  else:\n",
    "    return 'Neutral'\n",
    "\n",
    "# Apply the sentiment analysis to a text column in your DataFrame\n",
    "# Replace 'text_column_name' with the actual name of the column containing text data\n",
    "data['sentiment'] = data['body'].apply(get_sentiment_label)\n",
    "\n",
    "# Display the DataFrame with the new sentiment column\n",
    "print(data.head())"
   ]
  },
  {
   "cell_type": "code",
   "execution_count": null,
   "metadata": {
    "colab": {
     "base_uri": "https://localhost:8080/",
     "height": 258
    },
    "id": "ItkpL-zrxXH_",
    "outputId": "075ea23f-1661-4e61-a063-4f843645e873"
   },
   "outputs": [],
   "source": [
    "data.head()"
   ]
  },
  {
   "cell_type": "markdown",
   "metadata": {
    "id": "l7G4GqgwzEof"
   },
   "source": [
    "Task 2"
   ]
  },
  {
   "cell_type": "code",
   "execution_count": null,
   "metadata": {
    "colab": {
     "base_uri": "https://localhost:8080/"
    },
    "id": "MuBHC0fVzJfp",
    "outputId": "24b2495c-0ce8-4b68-ab50-df517ee4222e"
   },
   "outputs": [],
   "source": [
    "data.shape"
   ]
  },
  {
   "cell_type": "code",
   "execution_count": null,
   "metadata": {
    "colab": {
     "base_uri": "https://localhost:8080/"
    },
    "id": "TDUgj9eBzWG_",
    "outputId": "de169a2e-80d4-4a34-fa65-d81a9012a4a3"
   },
   "outputs": [],
   "source": [
    "data.info()"
   ]
  },
  {
   "cell_type": "code",
   "execution_count": null,
   "metadata": {
    "colab": {
     "base_uri": "https://localhost:8080/",
     "height": 241
    },
    "id": "aGXXbTYIzrs_",
    "outputId": "90450e18-ac29-4c3f-9ca3-57096a5b7d11"
   },
   "outputs": [],
   "source": [
    "data.isnull().sum()"
   ]
  },
  {
   "cell_type": "code",
   "execution_count": null,
   "metadata": {
    "colab": {
     "base_uri": "https://localhost:8080/",
     "height": 472
    },
    "id": "E5MrlyIW0DLl",
    "outputId": "a21e5667-07cc-4e33-ec5d-5196a53907b5"
   },
   "outputs": [],
   "source": [
    "sns.histplot(data['sentiment'])\n",
    "plt.title('Distribution of Sentiment')\n",
    "plt.xlabel('Sentiment')\n",
    "plt.ylabel('Count')\n",
    "plt.show()"
   ]
  },
  {
   "cell_type": "code",
   "execution_count": null,
   "metadata": {
    "colab": {
     "base_uri": "https://localhost:8080/"
    },
    "id": "ZsJWUXx90UlK",
    "outputId": "4c9fb2da-3826-40eb-a51d-936da2893af6"
   },
   "outputs": [],
   "source": [
    "# Ensure the 'Date' column is in datetime format\n",
    "data['date'] = pd.to_datetime(data['date'])\n",
    "\n",
    "# Convert the 'Date' column to UTC\n",
    "data['date_UTC'] = data['date'].dt.tz_localize('UTC')\n",
    "\n",
    "# Print the DataFrame head to show the new UTC column\n",
    "print(data.head())"
   ]
  },
  {
   "cell_type": "code",
   "execution_count": null,
   "metadata": {
    "colab": {
     "base_uri": "https://localhost:8080/",
     "height": 293
    },
    "id": "_9yVUCbn1Rhc",
    "outputId": "85eef22f-7ed9-43f4-fa27-02d095b9e4cb"
   },
   "outputs": [],
   "source": [
    "data.head()"
   ]
  },
  {
   "cell_type": "code",
   "execution_count": null,
   "metadata": {
    "colab": {
     "base_uri": "https://localhost:8080/",
     "height": 537
    },
    "id": "j8iCGbSZ1X3I",
    "outputId": "71a2b393-5551-4c8a-efa3-b59f06ad36c4"
   },
   "outputs": [],
   "source": [
    "# Analyze sentiment trends over time\n",
    "# Group by date and sentiment, and count occurrences\n",
    "sentiment_over_time = data.groupby([pd.Grouper(key='date_UTC', freq='D'), 'sentiment']).size().unstack(fill_value=0)\n",
    "\n",
    "# Plot the trends\n",
    "sentiment_over_time.plot(kind='line', figsize=(12, 6))\n",
    "plt.title('Sentiment Trends Over Time')\n",
    "plt.xlabel('Date (UTC)')\n",
    "plt.ylabel('Number of Posts')\n",
    "plt.grid(True)\n",
    "plt.show()"
   ]
  },
  {
   "cell_type": "code",
   "execution_count": null,
   "metadata": {
    "colab": {
     "base_uri": "https://localhost:8080/",
     "height": 1000
    },
    "id": "lsW6y0SO3Ml1",
    "outputId": "983b39bf-1964-4a3a-919a-1eb23bb1a7dc"
   },
   "outputs": [],
   "source": [
    "# Analyze sentiment distribution by 'from'\n",
    "# This could reveal if certain senders tend to have more positive or negative sentiments\n",
    "plt.figure(figsize=(10, 6))\n",
    "sns.countplot(data=data, x='from', hue='sentiment')\n",
    "plt.title('Sentiment Distribution by Sender')\n",
    "plt.xlabel('Sender')\n",
    "plt.ylabel('Count')\n",
    "plt.xticks(rotation=45, ha='right')\n",
    "plt.tight_layout()\n",
    "plt.show()\n",
    "\n",
    "# Investigate message length vs. sentiment\n",
    "# Longer messages might be more likely to contain specific sentiments\n",
    "data['body_length'] = data['body'].apply(lambda x: len(str(x)))\n",
    "plt.figure(figsize=(8, 6))\n",
    "sns.boxplot(data=data, x='sentiment', y='body_length')\n",
    "plt.title('Message Length vs. Sentiment')\n",
    "plt.xlabel('Sentiment')\n",
    "plt.ylabel('Message Length')\n",
    "plt.show()"
   ]
  },
  {
   "cell_type": "markdown",
   "metadata": {
    "id": "-E4O-l105Hxs"
   },
   "source": [
    "Task 3"
   ]
  },
  {
   "cell_type": "code",
   "execution_count": null,
   "metadata": {
    "colab": {
     "base_uri": "https://localhost:8080/",
     "height": 399
    },
    "id": "9p1oKfJf498D",
    "outputId": "2f85d673-41ae-468a-c892-697129af2eef"
   },
   "outputs": [],
   "source": [
    "# Define a function to assign scores based on sentiment\n",
    "def assign_score(sentiment):\n",
    "  if sentiment == 'Positive':\n",
    "    return 1\n",
    "  elif sentiment == 'Negative':\n",
    "    return -1\n",
    "  else:\n",
    "    return 0\n",
    "\n",
    "# Apply the function to create the 'score' column\n",
    "data['score'] = data['sentiment'].apply(assign_score)\n",
    "\n",
    "# Group by employee and sum the scores to get the total score per employee\n",
    "employee_scores = data.groupby('from')['score'].sum().reset_index()\n",
    "\n",
    "# Display the employee scores\n",
    "print(\"\\nEmployee Sentiment Scores:\")\n",
    "employee_scores"
   ]
  },
  {
   "cell_type": "code",
   "execution_count": null,
   "metadata": {
    "colab": {
     "base_uri": "https://localhost:8080/",
     "height": 459
    },
    "id": "Sk3iNtC056Mh",
    "outputId": "e1a818e2-5526-4618-ccab-f02da51046b6"
   },
   "outputs": [],
   "source": [
    "# Extract year and month\n",
    "data['year_month'] = data['date'].dt.to_period('M')\n",
    "\n",
    "# Group by employee ('from') and 'year_month', then sum the scores\n",
    "monthly_scores = data.groupby(['from', 'year_month'])['score'].sum().reset_index()\n",
    "\n",
    "# Display the monthly employee scores\n",
    "print(\"\\nMonthly Employee Sentiment Scores:\")\n",
    "monthly_scores"
   ]
  },
  {
   "cell_type": "code",
   "execution_count": null,
   "metadata": {
    "colab": {
     "base_uri": "https://localhost:8080/"
    },
    "id": "CHEmJhFH6Nec",
    "outputId": "47271123-f22e-4127-d05c-0e147ad3af7b"
   },
   "outputs": [],
   "source": [
    "latest_monthly_scores = monthly_scores.groupby('from').tail(1).reset_index(drop=True)\n",
    "print(\"\\nLatest Monthly Employee Sentiment Scores:\")\n",
    "print(latest_monthly_scores)"
   ]
  },
  {
   "cell_type": "markdown",
   "metadata": {
    "id": "puVIlNXxsjlD"
   },
   "source": [
    "Task 4"
   ]
  },
  {
   "cell_type": "code",
   "execution_count": null,
   "metadata": {
    "colab": {
     "base_uri": "https://localhost:8080/",
     "height": 417
    },
    "id": "yzPpHW9dsNjq",
    "outputId": "4647069d-d8a1-4627-caf6-761f12796f6f"
   },
   "outputs": [],
   "source": [
    "data.head()"
   ]
  },
  {
   "cell_type": "code",
   "execution_count": null,
   "metadata": {
    "colab": {
     "base_uri": "https://localhost:8080/"
    },
    "id": "TuRj98VAp14_",
    "outputId": "a4a9290b-cd08-417c-a881-5cc6ae11f960"
   },
   "outputs": [],
   "source": [
    "# Initialize DataFrames to store top positive and negative employees\n",
    "top_positive_employees = pd.DataFrame()\n",
    "top_negative_employees = pd.DataFrame()\n",
    "\n",
    "# Iterate through each unique month in the data\n",
    "for year_month in monthly_scores['year_month'].unique():\n",
    "  # Filter scores for the current month\n",
    "  monthly_data = monthly_scores[monthly_scores['year_month'] == year_month].copy()\n",
    "\n",
    "  # Sort by score in descending order for positive ranking\n",
    "  sorted_monthly_positive = monthly_data.sort_values(by='score', ascending=False)\n",
    "\n",
    "  # Get the top 3 employees, add a 'month' column for clarity, sort alphabetically by employee name for ties\n",
    "  top_3_positive = sorted_monthly_positive.head(3).copy()\n",
    "  top_3_positive['month'] = year_month\n",
    "  top_3_positive = top_3_positive.sort_values(by=['score', 'from'], ascending=[False, True])\n",
    "\n",
    "  # Append to the main DataFrame\n",
    "  top_positive_employees = pd.concat([top_positive_employees, top_3_positive])\n",
    "\n",
    "\n",
    "  # Sort by score in ascending order for negative ranking\n",
    "  sorted_monthly_negative = monthly_data.sort_values(by='score', ascending=True)\n",
    "  top_3_negative = sorted_monthly_negative.head(3).copy()\n",
    "  top_3_negative['month'] = year_month\n",
    "  top_3_negative = top_3_negative.sort_values(by=['score', 'from'], ascending=[True, True])\n",
    "  top_negative_employees = pd.concat([top_negative_employees, top_3_negative])\n",
    "\n",
    "# Reset index for cleaner presentation\n",
    "top_positive_employees.reset_index(drop=True, inplace=True)\n",
    "top_negative_employees.reset_index(drop=True, inplace=True)\n",
    "\n",
    "# Display the results in tables\n",
    "print(\"\\nTop Three Positive Employees per Month:\")\n",
    "print(top_positive_employees[['month', 'from', 'score']])\n",
    "\n",
    "print(\"\\nTop Three Negative Employees per Month:\")\n",
    "print(top_negative_employees[['month', 'from', 'score']])\n"
   ]
  },
  {
   "cell_type": "code",
   "execution_count": null,
   "metadata": {
    "colab": {
     "base_uri": "https://localhost:8080/",
     "height": 417
    },
    "id": "lNrik2Af_7jr",
    "outputId": "9208c9c5-b2e1-43c9-c01c-8f8c8a07fc46"
   },
   "outputs": [],
   "source": [
    "data.head()"
   ]
  },
  {
   "cell_type": "markdown",
   "metadata": {
    "id": "ZyD2isgCysVz"
   },
   "source": [
    "Task 5"
   ]
  },
  {
   "cell_type": "code",
   "execution_count": null,
   "metadata": {
    "colab": {
     "base_uri": "https://localhost:8080/"
    },
    "id": "H8OyYbi0yplv",
    "outputId": "d8724445-677a-429b-cfc5-3c2ce8352bb0"
   },
   "outputs": [],
   "source": [
    "# Ensure 'date' is sorted\n",
    "data = data.sort_values(by='date').reset_index(drop=True)\n",
    "\n",
    "# Filter for negative sentiments only\n",
    "negative_mails = data[data['sentiment'] == 'Negative'].copy()\n",
    "\n",
    "# Group by sender\n",
    "grouped_negative_mails = negative_mails.groupby('from')\n",
    "\n",
    "flight_risk_employees = set()\n",
    "\n",
    "# Iterate through each sender\n",
    "for sender, mails in grouped_negative_mails:\n",
    "  # Ensure the mails are sorted by date for the rolling window\n",
    "  mails = mails.sort_values(by='date')\n",
    "\n",
    "  # Use a rolling window of 30 days\n",
    "  # The window is based on the date differences between mails for the same sender\n",
    "  # Iterate through each negative mail sent by the sender\n",
    "  for i in range(len(mails)):\n",
    "    # Get the date of the current mail\n",
    "    current_date = mails.iloc[i]['date']\n",
    "\n",
    "    # Define the 30 day window start date\n",
    "    window_start_date = current_date - pd.Timedelta(days=30)\n",
    "\n",
    "    # Count negative mails within the 30 day window\n",
    "    # Count mails from the beginning of the sender's negative mail history up to the current mail date\n",
    "    # that fall within the last 30 days relative to the current mail date\n",
    "    recent_negative_mails = mails[(mails['date'] >= window_start_date) & (mails['date'] <= current_date)]\n",
    "\n",
    "    # Check if the count is 4 or more\n",
    "    if len(recent_negative_mails) >= 4:\n",
    "      flight_risk_employees.add(sender)\n",
    "      break\n",
    "\n",
    "# Convert the set to a list for display\n",
    "flight_risk_list = list(flight_risk_employees)\n",
    "\n",
    "print(\"\\nEmployees identified as Flight Risks:\")\n",
    "print(flight_risk_list)"
   ]
  },
  {
   "cell_type": "code",
   "execution_count": null,
   "metadata": {
    "colab": {
     "base_uri": "https://localhost:8080/",
     "height": 414
    },
    "id": "VpVY7r96fEcU",
    "outputId": "0099b871-17b4-4815-d32a-17cd6d90410b"
   },
   "outputs": [],
   "source": [
    "data.head()"
   ]
  },
  {
   "cell_type": "markdown",
   "metadata": {
    "id": "HKzQ-ggwfAgR"
   },
   "source": [
    "Task 6"
   ]
  },
  {
   "cell_type": "code",
   "execution_count": null,
   "metadata": {
    "colab": {
     "base_uri": "https://localhost:8080/"
    },
    "id": "9zjhbpC_fHRD",
    "outputId": "49a49fcf-312d-4482-abbf-473e7d977f22"
   },
   "outputs": [],
   "source": [
    "%pip install statsmodels\n",
    "from sklearn.model_selection import train_test_split\n",
    "from sklearn.linear_model import LinearRegression\n",
    "from sklearn.metrics import mean_squared_error, r2_score\n",
    "import statsmodels.api as sm\n",
    "\n",
    "# Features for the model\n",
    "if 'subject_length' not in data.columns:\n",
    "    data['subject_length'] = data['Subject'].apply(lambda x: len(str(x)))\n",
    "data['question_count'] = data['body'].apply(lambda x: str(x).count('?'))\n",
    "\n",
    "features = ['body_length', 'subject_length', 'question_count']\n",
    "X = data[features]\n",
    "y = data['score']\n",
    "\n",
    "# Split data into training and testing sets\n",
    "X_train, X_test, y_train, y_test = train_test_split(X, y, test_size=0.2, random_state=42)\n",
    "\n",
    "# Develop a linear regression model\n",
    "model = LinearRegression()\n",
    "model.fit(X_train, y_train)\n",
    "\n",
    "# Make predictions on the test set\n",
    "y_pred = model.predict(X_test)\n",
    "\n",
    "# Evaluate model performance\n",
    "mse = mean_squared_error(y_test, y_pred)\n",
    "r2 = r2_score(y_test, y_pred)\n",
    "\n",
    "print(f\"\\nMean Squared Error (MSE): {mse:.4f}\")\n",
    "print(f\"R-squared (R2): {r2:.4f}\")\n",
    "\n",
    "# Interpret the model results using statsmodels for detailed summary\n",
    "# Add a constant to the features for the intercept\n",
    "X_train_sm = sm.add_constant(X_train)\n",
    "model_sm = sm.OLS(y_train, X_train_sm).fit()\n",
    "\n",
    "print(\"\\nLinear Regression Model Summary:\")\n",
    "print(model_sm.summary())\n",
    "\n",
    "print(\"\\nInterpretation of Results:\")\n",
    "print(\"MSE is high and R2 is low meaning prediction accuracy is low.\\n\")"
   ]
  }
 ],
 "metadata": {
  "accelerator": "GPU",
  "colab": {
   "authorship_tag": "ABX9TyMkDXuA/jvO5s1hl1QjfRTE",
   "gpuType": "T4",
   "include_colab_link": true,
   "provenance": [],
   "toc_visible": true
  },
  "kernelspec": {
   "display_name": "Python 3",
   "name": "python3"
  },
  "language_info": {
   "codemirror_mode": {
    "name": "ipython",
    "version": 3
   },
   "file_extension": ".py",
   "mimetype": "text/x-python",
   "name": "python",
   "nbconvert_exporter": "python",
   "pygments_lexer": "ipython3",
   "version": "3.12.1"
  },
  "widgets": {
   "application/vnd.jupyter.widget-state+json": {
    "0211036c194c472aba0bb893ca8dc4ae": {
     "model_module": "@jupyter-widgets/base",
     "model_module_version": "1.2.0",
     "model_name": "LayoutModel",
     "state": {
      "_model_module": "@jupyter-widgets/base",
      "_model_module_version": "1.2.0",
      "_model_name": "LayoutModel",
      "_view_count": null,
      "_view_module": "@jupyter-widgets/base",
      "_view_module_version": "1.2.0",
      "_view_name": "LayoutView",
      "align_content": null,
      "align_items": null,
      "align_self": null,
      "border": null,
      "bottom": null,
      "display": null,
      "flex": null,
      "flex_flow": null,
      "grid_area": null,
      "grid_auto_columns": null,
      "grid_auto_flow": null,
      "grid_auto_rows": null,
      "grid_column": null,
      "grid_gap": null,
      "grid_row": null,
      "grid_template_areas": null,
      "grid_template_columns": null,
      "grid_template_rows": null,
      "height": null,
      "justify_content": null,
      "justify_items": null,
      "left": null,
      "margin": null,
      "max_height": null,
      "max_width": null,
      "min_height": null,
      "min_width": null,
      "object_fit": null,
      "object_position": null,
      "order": null,
      "overflow": null,
      "overflow_x": null,
      "overflow_y": null,
      "padding": null,
      "right": null,
      "top": null,
      "visibility": null,
      "width": null
     }
    },
    "062a17385fc04d40b4f5cfc27d60d23a": {
     "model_module": "@jupyter-widgets/base",
     "model_module_version": "1.2.0",
     "model_name": "LayoutModel",
     "state": {
      "_model_module": "@jupyter-widgets/base",
      "_model_module_version": "1.2.0",
      "_model_name": "LayoutModel",
      "_view_count": null,
      "_view_module": "@jupyter-widgets/base",
      "_view_module_version": "1.2.0",
      "_view_name": "LayoutView",
      "align_content": null,
      "align_items": null,
      "align_self": null,
      "border": null,
      "bottom": null,
      "display": null,
      "flex": null,
      "flex_flow": null,
      "grid_area": null,
      "grid_auto_columns": null,
      "grid_auto_flow": null,
      "grid_auto_rows": null,
      "grid_column": null,
      "grid_gap": null,
      "grid_row": null,
      "grid_template_areas": null,
      "grid_template_columns": null,
      "grid_template_rows": null,
      "height": null,
      "justify_content": null,
      "justify_items": null,
      "left": null,
      "margin": null,
      "max_height": null,
      "max_width": null,
      "min_height": null,
      "min_width": null,
      "object_fit": null,
      "object_position": null,
      "order": null,
      "overflow": null,
      "overflow_x": null,
      "overflow_y": null,
      "padding": null,
      "right": null,
      "top": null,
      "visibility": null,
      "width": null
     }
    },
    "07a773d41f564786a1425403cedeec19": {
     "model_module": "@jupyter-widgets/controls",
     "model_module_version": "1.5.0",
     "model_name": "FloatProgressModel",
     "state": {
      "_dom_classes": [],
      "_model_module": "@jupyter-widgets/controls",
      "_model_module_version": "1.5.0",
      "_model_name": "FloatProgressModel",
      "_view_count": null,
      "_view_module": "@jupyter-widgets/controls",
      "_view_module_version": "1.5.0",
      "_view_name": "ProgressView",
      "bar_style": "success",
      "description": "",
      "description_tooltip": null,
      "layout": "IPY_MODEL_2acc62a50d42428f92d87d345f4e970c",
      "max": 48,
      "min": 0,
      "orientation": "horizontal",
      "style": "IPY_MODEL_73555e544cc04aa3a9f99ce1e8ac4a6c",
      "value": 48
     }
    },
    "0fe443abe8d94806bd7c53acfd42f860": {
     "model_module": "@jupyter-widgets/controls",
     "model_module_version": "1.5.0",
     "model_name": "DescriptionStyleModel",
     "state": {
      "_model_module": "@jupyter-widgets/controls",
      "_model_module_version": "1.5.0",
      "_model_name": "DescriptionStyleModel",
      "_view_count": null,
      "_view_module": "@jupyter-widgets/base",
      "_view_module_version": "1.2.0",
      "_view_name": "StyleView",
      "description_width": ""
     }
    },
    "232c94fd72de45bbb1511ece307f4d8f": {
     "model_module": "@jupyter-widgets/controls",
     "model_module_version": "1.5.0",
     "model_name": "HTMLModel",
     "state": {
      "_dom_classes": [],
      "_model_module": "@jupyter-widgets/controls",
      "_model_module_version": "1.5.0",
      "_model_name": "HTMLModel",
      "_view_count": null,
      "_view_module": "@jupyter-widgets/controls",
      "_view_module_version": "1.5.0",
      "_view_name": "HTMLView",
      "description": "",
      "description_tooltip": null,
      "layout": "IPY_MODEL_ecb0ea0711004a609e7a2b5bbefe9866",
      "placeholder": "​",
      "style": "IPY_MODEL_3110b3690ee745bd9e42b2a61f8e3588",
      "value": " 629/629 [00:00&lt;00:00, 64.3kB/s]"
     }
    },
    "2451a2927b794416838db17cb4302e0f": {
     "model_module": "@jupyter-widgets/controls",
     "model_module_version": "1.5.0",
     "model_name": "HTMLModel",
     "state": {
      "_dom_classes": [],
      "_model_module": "@jupyter-widgets/controls",
      "_model_module_version": "1.5.0",
      "_model_name": "HTMLModel",
      "_view_count": null,
      "_view_module": "@jupyter-widgets/controls",
      "_view_module_version": "1.5.0",
      "_view_name": "HTMLView",
      "description": "",
      "description_tooltip": null,
      "layout": "IPY_MODEL_8a2e5b8b7cec47f59eb9aac988347a53",
      "placeholder": "​",
      "style": "IPY_MODEL_0fe443abe8d94806bd7c53acfd42f860",
      "value": " 232k/232k [00:00&lt;00:00, 12.1MB/s]"
     }
    },
    "2acc62a50d42428f92d87d345f4e970c": {
     "model_module": "@jupyter-widgets/base",
     "model_module_version": "1.2.0",
     "model_name": "LayoutModel",
     "state": {
      "_model_module": "@jupyter-widgets/base",
      "_model_module_version": "1.2.0",
      "_model_name": "LayoutModel",
      "_view_count": null,
      "_view_module": "@jupyter-widgets/base",
      "_view_module_version": "1.2.0",
      "_view_name": "LayoutView",
      "align_content": null,
      "align_items": null,
      "align_self": null,
      "border": null,
      "bottom": null,
      "display": null,
      "flex": null,
      "flex_flow": null,
      "grid_area": null,
      "grid_auto_columns": null,
      "grid_auto_flow": null,
      "grid_auto_rows": null,
      "grid_column": null,
      "grid_gap": null,
      "grid_row": null,
      "grid_template_areas": null,
      "grid_template_columns": null,
      "grid_template_rows": null,
      "height": null,
      "justify_content": null,
      "justify_items": null,
      "left": null,
      "margin": null,
      "max_height": null,
      "max_width": null,
      "min_height": null,
      "min_width": null,
      "object_fit": null,
      "object_position": null,
      "order": null,
      "overflow": null,
      "overflow_x": null,
      "overflow_y": null,
      "padding": null,
      "right": null,
      "top": null,
      "visibility": null,
      "width": null
     }
    },
    "2cda07dbe58a4ece857b4c8ae595a24e": {
     "model_module": "@jupyter-widgets/controls",
     "model_module_version": "1.5.0",
     "model_name": "FloatProgressModel",
     "state": {
      "_dom_classes": [],
      "_model_module": "@jupyter-widgets/controls",
      "_model_module_version": "1.5.0",
      "_model_name": "FloatProgressModel",
      "_view_count": null,
      "_view_module": "@jupyter-widgets/controls",
      "_view_module_version": "1.5.0",
      "_view_name": "ProgressView",
      "bar_style": "success",
      "description": "",
      "description_tooltip": null,
      "layout": "IPY_MODEL_c50a2b32091e444b8a3c488fca554f54",
      "max": 231508,
      "min": 0,
      "orientation": "horizontal",
      "style": "IPY_MODEL_d2784ab1ac9046998e03e1f815adfd97",
      "value": 231508
     }
    },
    "3110b3690ee745bd9e42b2a61f8e3588": {
     "model_module": "@jupyter-widgets/controls",
     "model_module_version": "1.5.0",
     "model_name": "DescriptionStyleModel",
     "state": {
      "_model_module": "@jupyter-widgets/controls",
      "_model_module_version": "1.5.0",
      "_model_name": "DescriptionStyleModel",
      "_view_count": null,
      "_view_module": "@jupyter-widgets/base",
      "_view_module_version": "1.2.0",
      "_view_name": "StyleView",
      "description_width": ""
     }
    },
    "35937c40e9424a68a503b312f95b1934": {
     "model_module": "@jupyter-widgets/controls",
     "model_module_version": "1.5.0",
     "model_name": "HTMLModel",
     "state": {
      "_dom_classes": [],
      "_model_module": "@jupyter-widgets/controls",
      "_model_module_version": "1.5.0",
      "_model_name": "HTMLModel",
      "_view_count": null,
      "_view_module": "@jupyter-widgets/controls",
      "_view_module_version": "1.5.0",
      "_view_name": "HTMLView",
      "description": "",
      "description_tooltip": null,
      "layout": "IPY_MODEL_dafbd32a243641c78eb3e99c0d92f284",
      "placeholder": "​",
      "style": "IPY_MODEL_8cf33485eb4448b18a6c8d292f8c5823",
      "value": "tokenizer_config.json: 100%"
     }
    },
    "4582527c52eb44b98b317ca9f585a878": {
     "model_module": "@jupyter-widgets/controls",
     "model_module_version": "1.5.0",
     "model_name": "HTMLModel",
     "state": {
      "_dom_classes": [],
      "_model_module": "@jupyter-widgets/controls",
      "_model_module_version": "1.5.0",
      "_model_name": "HTMLModel",
      "_view_count": null,
      "_view_module": "@jupyter-widgets/controls",
      "_view_module_version": "1.5.0",
      "_view_name": "HTMLView",
      "description": "",
      "description_tooltip": null,
      "layout": "IPY_MODEL_8942bfc48f3e49eaa5be96358e4036a2",
      "placeholder": "​",
      "style": "IPY_MODEL_c58d6a6fadf543da9ad452a23acb290f",
      "value": " 48.0/48.0 [00:00&lt;00:00, 3.90kB/s]"
     }
    },
    "4c88f4ba1daa446bb01c639c78cecdcc": {
     "model_module": "@jupyter-widgets/controls",
     "model_module_version": "1.5.0",
     "model_name": "HTMLModel",
     "state": {
      "_dom_classes": [],
      "_model_module": "@jupyter-widgets/controls",
      "_model_module_version": "1.5.0",
      "_model_name": "HTMLModel",
      "_view_count": null,
      "_view_module": "@jupyter-widgets/controls",
      "_view_module_version": "1.5.0",
      "_view_name": "HTMLView",
      "description": "",
      "description_tooltip": null,
      "layout": "IPY_MODEL_062a17385fc04d40b4f5cfc27d60d23a",
      "placeholder": "​",
      "style": "IPY_MODEL_d040336ecb164245a716250bb8c78aa9",
      "value": "vocab.txt: 100%"
     }
    },
    "5c66a2452d6c46d19a1be382050c9c89": {
     "model_module": "@jupyter-widgets/controls",
     "model_module_version": "1.5.0",
     "model_name": "HTMLModel",
     "state": {
      "_dom_classes": [],
      "_model_module": "@jupyter-widgets/controls",
      "_model_module_version": "1.5.0",
      "_model_name": "HTMLModel",
      "_view_count": null,
      "_view_module": "@jupyter-widgets/controls",
      "_view_module_version": "1.5.0",
      "_view_name": "HTMLView",
      "description": "",
      "description_tooltip": null,
      "layout": "IPY_MODEL_0211036c194c472aba0bb893ca8dc4ae",
      "placeholder": "​",
      "style": "IPY_MODEL_d333bdaef61f4790b55ce05b0504ad12",
      "value": " 268M/268M [00:00&lt;00:00, 358MB/s]"
     }
    },
    "5d540c4217134803ae6a6ac4fab365e2": {
     "model_module": "@jupyter-widgets/controls",
     "model_module_version": "1.5.0",
     "model_name": "HTMLModel",
     "state": {
      "_dom_classes": [],
      "_model_module": "@jupyter-widgets/controls",
      "_model_module_version": "1.5.0",
      "_model_name": "HTMLModel",
      "_view_count": null,
      "_view_module": "@jupyter-widgets/controls",
      "_view_module_version": "1.5.0",
      "_view_name": "HTMLView",
      "description": "",
      "description_tooltip": null,
      "layout": "IPY_MODEL_a081a8ce35f049f49ec5a6b372d41a98",
      "placeholder": "​",
      "style": "IPY_MODEL_a3709c59f16343b893ff7577293adef4",
      "value": "model.safetensors: 100%"
     }
    },
    "61e333bcf66b4a2ab7a5745af9fb3e2f": {
     "model_module": "@jupyter-widgets/controls",
     "model_module_version": "1.5.0",
     "model_name": "FloatProgressModel",
     "state": {
      "_dom_classes": [],
      "_model_module": "@jupyter-widgets/controls",
      "_model_module_version": "1.5.0",
      "_model_name": "FloatProgressModel",
      "_view_count": null,
      "_view_module": "@jupyter-widgets/controls",
      "_view_module_version": "1.5.0",
      "_view_name": "ProgressView",
      "bar_style": "success",
      "description": "",
      "description_tooltip": null,
      "layout": "IPY_MODEL_d12a064fe5d14ac3a39f72a54d1975e1",
      "max": 629,
      "min": 0,
      "orientation": "horizontal",
      "style": "IPY_MODEL_98be7fd657764b938a76605bb4b42243",
      "value": 629
     }
    },
    "73555e544cc04aa3a9f99ce1e8ac4a6c": {
     "model_module": "@jupyter-widgets/controls",
     "model_module_version": "1.5.0",
     "model_name": "ProgressStyleModel",
     "state": {
      "_model_module": "@jupyter-widgets/controls",
      "_model_module_version": "1.5.0",
      "_model_name": "ProgressStyleModel",
      "_view_count": null,
      "_view_module": "@jupyter-widgets/base",
      "_view_module_version": "1.2.0",
      "_view_name": "StyleView",
      "bar_color": null,
      "description_width": ""
     }
    },
    "8942bfc48f3e49eaa5be96358e4036a2": {
     "model_module": "@jupyter-widgets/base",
     "model_module_version": "1.2.0",
     "model_name": "LayoutModel",
     "state": {
      "_model_module": "@jupyter-widgets/base",
      "_model_module_version": "1.2.0",
      "_model_name": "LayoutModel",
      "_view_count": null,
      "_view_module": "@jupyter-widgets/base",
      "_view_module_version": "1.2.0",
      "_view_name": "LayoutView",
      "align_content": null,
      "align_items": null,
      "align_self": null,
      "border": null,
      "bottom": null,
      "display": null,
      "flex": null,
      "flex_flow": null,
      "grid_area": null,
      "grid_auto_columns": null,
      "grid_auto_flow": null,
      "grid_auto_rows": null,
      "grid_column": null,
      "grid_gap": null,
      "grid_row": null,
      "grid_template_areas": null,
      "grid_template_columns": null,
      "grid_template_rows": null,
      "height": null,
      "justify_content": null,
      "justify_items": null,
      "left": null,
      "margin": null,
      "max_height": null,
      "max_width": null,
      "min_height": null,
      "min_width": null,
      "object_fit": null,
      "object_position": null,
      "order": null,
      "overflow": null,
      "overflow_x": null,
      "overflow_y": null,
      "padding": null,
      "right": null,
      "top": null,
      "visibility": null,
      "width": null
     }
    },
    "8a2e5b8b7cec47f59eb9aac988347a53": {
     "model_module": "@jupyter-widgets/base",
     "model_module_version": "1.2.0",
     "model_name": "LayoutModel",
     "state": {
      "_model_module": "@jupyter-widgets/base",
      "_model_module_version": "1.2.0",
      "_model_name": "LayoutModel",
      "_view_count": null,
      "_view_module": "@jupyter-widgets/base",
      "_view_module_version": "1.2.0",
      "_view_name": "LayoutView",
      "align_content": null,
      "align_items": null,
      "align_self": null,
      "border": null,
      "bottom": null,
      "display": null,
      "flex": null,
      "flex_flow": null,
      "grid_area": null,
      "grid_auto_columns": null,
      "grid_auto_flow": null,
      "grid_auto_rows": null,
      "grid_column": null,
      "grid_gap": null,
      "grid_row": null,
      "grid_template_areas": null,
      "grid_template_columns": null,
      "grid_template_rows": null,
      "height": null,
      "justify_content": null,
      "justify_items": null,
      "left": null,
      "margin": null,
      "max_height": null,
      "max_width": null,
      "min_height": null,
      "min_width": null,
      "object_fit": null,
      "object_position": null,
      "order": null,
      "overflow": null,
      "overflow_x": null,
      "overflow_y": null,
      "padding": null,
      "right": null,
      "top": null,
      "visibility": null,
      "width": null
     }
    },
    "8cf33485eb4448b18a6c8d292f8c5823": {
     "model_module": "@jupyter-widgets/controls",
     "model_module_version": "1.5.0",
     "model_name": "DescriptionStyleModel",
     "state": {
      "_model_module": "@jupyter-widgets/controls",
      "_model_module_version": "1.5.0",
      "_model_name": "DescriptionStyleModel",
      "_view_count": null,
      "_view_module": "@jupyter-widgets/base",
      "_view_module_version": "1.2.0",
      "_view_name": "StyleView",
      "description_width": ""
     }
    },
    "94b04a613bb44211a1f32f2ca53fb4e8": {
     "model_module": "@jupyter-widgets/controls",
     "model_module_version": "1.5.0",
     "model_name": "HBoxModel",
     "state": {
      "_dom_classes": [],
      "_model_module": "@jupyter-widgets/controls",
      "_model_module_version": "1.5.0",
      "_model_name": "HBoxModel",
      "_view_count": null,
      "_view_module": "@jupyter-widgets/controls",
      "_view_module_version": "1.5.0",
      "_view_name": "HBoxView",
      "box_style": "",
      "children": [
       "IPY_MODEL_35937c40e9424a68a503b312f95b1934",
       "IPY_MODEL_07a773d41f564786a1425403cedeec19",
       "IPY_MODEL_4582527c52eb44b98b317ca9f585a878"
      ],
      "layout": "IPY_MODEL_e28cb3051fdc446ead64576cd15e508d"
     }
    },
    "97836a6ef5d44e3fafe50d401691b73b": {
     "model_module": "@jupyter-widgets/base",
     "model_module_version": "1.2.0",
     "model_name": "LayoutModel",
     "state": {
      "_model_module": "@jupyter-widgets/base",
      "_model_module_version": "1.2.0",
      "_model_name": "LayoutModel",
      "_view_count": null,
      "_view_module": "@jupyter-widgets/base",
      "_view_module_version": "1.2.0",
      "_view_name": "LayoutView",
      "align_content": null,
      "align_items": null,
      "align_self": null,
      "border": null,
      "bottom": null,
      "display": null,
      "flex": null,
      "flex_flow": null,
      "grid_area": null,
      "grid_auto_columns": null,
      "grid_auto_flow": null,
      "grid_auto_rows": null,
      "grid_column": null,
      "grid_gap": null,
      "grid_row": null,
      "grid_template_areas": null,
      "grid_template_columns": null,
      "grid_template_rows": null,
      "height": null,
      "justify_content": null,
      "justify_items": null,
      "left": null,
      "margin": null,
      "max_height": null,
      "max_width": null,
      "min_height": null,
      "min_width": null,
      "object_fit": null,
      "object_position": null,
      "order": null,
      "overflow": null,
      "overflow_x": null,
      "overflow_y": null,
      "padding": null,
      "right": null,
      "top": null,
      "visibility": null,
      "width": null
     }
    },
    "98be7fd657764b938a76605bb4b42243": {
     "model_module": "@jupyter-widgets/controls",
     "model_module_version": "1.5.0",
     "model_name": "ProgressStyleModel",
     "state": {
      "_model_module": "@jupyter-widgets/controls",
      "_model_module_version": "1.5.0",
      "_model_name": "ProgressStyleModel",
      "_view_count": null,
      "_view_module": "@jupyter-widgets/base",
      "_view_module_version": "1.2.0",
      "_view_name": "StyleView",
      "bar_color": null,
      "description_width": ""
     }
    },
    "9ca7c212f9a94318bbefc05fd2792cec": {
     "model_module": "@jupyter-widgets/base",
     "model_module_version": "1.2.0",
     "model_name": "LayoutModel",
     "state": {
      "_model_module": "@jupyter-widgets/base",
      "_model_module_version": "1.2.0",
      "_model_name": "LayoutModel",
      "_view_count": null,
      "_view_module": "@jupyter-widgets/base",
      "_view_module_version": "1.2.0",
      "_view_name": "LayoutView",
      "align_content": null,
      "align_items": null,
      "align_self": null,
      "border": null,
      "bottom": null,
      "display": null,
      "flex": null,
      "flex_flow": null,
      "grid_area": null,
      "grid_auto_columns": null,
      "grid_auto_flow": null,
      "grid_auto_rows": null,
      "grid_column": null,
      "grid_gap": null,
      "grid_row": null,
      "grid_template_areas": null,
      "grid_template_columns": null,
      "grid_template_rows": null,
      "height": null,
      "justify_content": null,
      "justify_items": null,
      "left": null,
      "margin": null,
      "max_height": null,
      "max_width": null,
      "min_height": null,
      "min_width": null,
      "object_fit": null,
      "object_position": null,
      "order": null,
      "overflow": null,
      "overflow_x": null,
      "overflow_y": null,
      "padding": null,
      "right": null,
      "top": null,
      "visibility": null,
      "width": null
     }
    },
    "a081a8ce35f049f49ec5a6b372d41a98": {
     "model_module": "@jupyter-widgets/base",
     "model_module_version": "1.2.0",
     "model_name": "LayoutModel",
     "state": {
      "_model_module": "@jupyter-widgets/base",
      "_model_module_version": "1.2.0",
      "_model_name": "LayoutModel",
      "_view_count": null,
      "_view_module": "@jupyter-widgets/base",
      "_view_module_version": "1.2.0",
      "_view_name": "LayoutView",
      "align_content": null,
      "align_items": null,
      "align_self": null,
      "border": null,
      "bottom": null,
      "display": null,
      "flex": null,
      "flex_flow": null,
      "grid_area": null,
      "grid_auto_columns": null,
      "grid_auto_flow": null,
      "grid_auto_rows": null,
      "grid_column": null,
      "grid_gap": null,
      "grid_row": null,
      "grid_template_areas": null,
      "grid_template_columns": null,
      "grid_template_rows": null,
      "height": null,
      "justify_content": null,
      "justify_items": null,
      "left": null,
      "margin": null,
      "max_height": null,
      "max_width": null,
      "min_height": null,
      "min_width": null,
      "object_fit": null,
      "object_position": null,
      "order": null,
      "overflow": null,
      "overflow_x": null,
      "overflow_y": null,
      "padding": null,
      "right": null,
      "top": null,
      "visibility": null,
      "width": null
     }
    },
    "a3709c59f16343b893ff7577293adef4": {
     "model_module": "@jupyter-widgets/controls",
     "model_module_version": "1.5.0",
     "model_name": "DescriptionStyleModel",
     "state": {
      "_model_module": "@jupyter-widgets/controls",
      "_model_module_version": "1.5.0",
      "_model_name": "DescriptionStyleModel",
      "_view_count": null,
      "_view_module": "@jupyter-widgets/base",
      "_view_module_version": "1.2.0",
      "_view_name": "StyleView",
      "description_width": ""
     }
    },
    "a5245355fffa40bea8544c54d21993ef": {
     "model_module": "@jupyter-widgets/controls",
     "model_module_version": "1.5.0",
     "model_name": "ProgressStyleModel",
     "state": {
      "_model_module": "@jupyter-widgets/controls",
      "_model_module_version": "1.5.0",
      "_model_name": "ProgressStyleModel",
      "_view_count": null,
      "_view_module": "@jupyter-widgets/base",
      "_view_module_version": "1.2.0",
      "_view_name": "StyleView",
      "bar_color": null,
      "description_width": ""
     }
    },
    "b28376f78a034ac6b5778e3d783831f5": {
     "model_module": "@jupyter-widgets/base",
     "model_module_version": "1.2.0",
     "model_name": "LayoutModel",
     "state": {
      "_model_module": "@jupyter-widgets/base",
      "_model_module_version": "1.2.0",
      "_model_name": "LayoutModel",
      "_view_count": null,
      "_view_module": "@jupyter-widgets/base",
      "_view_module_version": "1.2.0",
      "_view_name": "LayoutView",
      "align_content": null,
      "align_items": null,
      "align_self": null,
      "border": null,
      "bottom": null,
      "display": null,
      "flex": null,
      "flex_flow": null,
      "grid_area": null,
      "grid_auto_columns": null,
      "grid_auto_flow": null,
      "grid_auto_rows": null,
      "grid_column": null,
      "grid_gap": null,
      "grid_row": null,
      "grid_template_areas": null,
      "grid_template_columns": null,
      "grid_template_rows": null,
      "height": null,
      "justify_content": null,
      "justify_items": null,
      "left": null,
      "margin": null,
      "max_height": null,
      "max_width": null,
      "min_height": null,
      "min_width": null,
      "object_fit": null,
      "object_position": null,
      "order": null,
      "overflow": null,
      "overflow_x": null,
      "overflow_y": null,
      "padding": null,
      "right": null,
      "top": null,
      "visibility": null,
      "width": null
     }
    },
    "b8c2ab604513410181a85a5abd261dc9": {
     "model_module": "@jupyter-widgets/controls",
     "model_module_version": "1.5.0",
     "model_name": "HBoxModel",
     "state": {
      "_dom_classes": [],
      "_model_module": "@jupyter-widgets/controls",
      "_model_module_version": "1.5.0",
      "_model_name": "HBoxModel",
      "_view_count": null,
      "_view_module": "@jupyter-widgets/controls",
      "_view_module_version": "1.5.0",
      "_view_name": "HBoxView",
      "box_style": "",
      "children": [
       "IPY_MODEL_4c88f4ba1daa446bb01c639c78cecdcc",
       "IPY_MODEL_2cda07dbe58a4ece857b4c8ae595a24e",
       "IPY_MODEL_2451a2927b794416838db17cb4302e0f"
      ],
      "layout": "IPY_MODEL_e8cd952346ce4fe4abd5112b6ce4b7aa"
     }
    },
    "c50a2b32091e444b8a3c488fca554f54": {
     "model_module": "@jupyter-widgets/base",
     "model_module_version": "1.2.0",
     "model_name": "LayoutModel",
     "state": {
      "_model_module": "@jupyter-widgets/base",
      "_model_module_version": "1.2.0",
      "_model_name": "LayoutModel",
      "_view_count": null,
      "_view_module": "@jupyter-widgets/base",
      "_view_module_version": "1.2.0",
      "_view_name": "LayoutView",
      "align_content": null,
      "align_items": null,
      "align_self": null,
      "border": null,
      "bottom": null,
      "display": null,
      "flex": null,
      "flex_flow": null,
      "grid_area": null,
      "grid_auto_columns": null,
      "grid_auto_flow": null,
      "grid_auto_rows": null,
      "grid_column": null,
      "grid_gap": null,
      "grid_row": null,
      "grid_template_areas": null,
      "grid_template_columns": null,
      "grid_template_rows": null,
      "height": null,
      "justify_content": null,
      "justify_items": null,
      "left": null,
      "margin": null,
      "max_height": null,
      "max_width": null,
      "min_height": null,
      "min_width": null,
      "object_fit": null,
      "object_position": null,
      "order": null,
      "overflow": null,
      "overflow_x": null,
      "overflow_y": null,
      "padding": null,
      "right": null,
      "top": null,
      "visibility": null,
      "width": null
     }
    },
    "c58d6a6fadf543da9ad452a23acb290f": {
     "model_module": "@jupyter-widgets/controls",
     "model_module_version": "1.5.0",
     "model_name": "DescriptionStyleModel",
     "state": {
      "_model_module": "@jupyter-widgets/controls",
      "_model_module_version": "1.5.0",
      "_model_name": "DescriptionStyleModel",
      "_view_count": null,
      "_view_module": "@jupyter-widgets/base",
      "_view_module_version": "1.2.0",
      "_view_name": "StyleView",
      "description_width": ""
     }
    },
    "c8ad9333e5ca4c35a8323ef7fe7df138": {
     "model_module": "@jupyter-widgets/controls",
     "model_module_version": "1.5.0",
     "model_name": "HTMLModel",
     "state": {
      "_dom_classes": [],
      "_model_module": "@jupyter-widgets/controls",
      "_model_module_version": "1.5.0",
      "_model_name": "HTMLModel",
      "_view_count": null,
      "_view_module": "@jupyter-widgets/controls",
      "_view_module_version": "1.5.0",
      "_view_name": "HTMLView",
      "description": "",
      "description_tooltip": null,
      "layout": "IPY_MODEL_97836a6ef5d44e3fafe50d401691b73b",
      "placeholder": "​",
      "style": "IPY_MODEL_d574f7d99072432fa1c5ab1519980666",
      "value": "config.json: 100%"
     }
    },
    "d040336ecb164245a716250bb8c78aa9": {
     "model_module": "@jupyter-widgets/controls",
     "model_module_version": "1.5.0",
     "model_name": "DescriptionStyleModel",
     "state": {
      "_model_module": "@jupyter-widgets/controls",
      "_model_module_version": "1.5.0",
      "_model_name": "DescriptionStyleModel",
      "_view_count": null,
      "_view_module": "@jupyter-widgets/base",
      "_view_module_version": "1.2.0",
      "_view_name": "StyleView",
      "description_width": ""
     }
    },
    "d077f5a17e0e4d71b962729c39e9c701": {
     "model_module": "@jupyter-widgets/controls",
     "model_module_version": "1.5.0",
     "model_name": "HBoxModel",
     "state": {
      "_dom_classes": [],
      "_model_module": "@jupyter-widgets/controls",
      "_model_module_version": "1.5.0",
      "_model_name": "HBoxModel",
      "_view_count": null,
      "_view_module": "@jupyter-widgets/controls",
      "_view_module_version": "1.5.0",
      "_view_name": "HBoxView",
      "box_style": "",
      "children": [
       "IPY_MODEL_5d540c4217134803ae6a6ac4fab365e2",
       "IPY_MODEL_f6e3230294914a9093ee9a9e7ab301bd",
       "IPY_MODEL_5c66a2452d6c46d19a1be382050c9c89"
      ],
      "layout": "IPY_MODEL_e153e9638ca5485395794defc74daea2"
     }
    },
    "d12a064fe5d14ac3a39f72a54d1975e1": {
     "model_module": "@jupyter-widgets/base",
     "model_module_version": "1.2.0",
     "model_name": "LayoutModel",
     "state": {
      "_model_module": "@jupyter-widgets/base",
      "_model_module_version": "1.2.0",
      "_model_name": "LayoutModel",
      "_view_count": null,
      "_view_module": "@jupyter-widgets/base",
      "_view_module_version": "1.2.0",
      "_view_name": "LayoutView",
      "align_content": null,
      "align_items": null,
      "align_self": null,
      "border": null,
      "bottom": null,
      "display": null,
      "flex": null,
      "flex_flow": null,
      "grid_area": null,
      "grid_auto_columns": null,
      "grid_auto_flow": null,
      "grid_auto_rows": null,
      "grid_column": null,
      "grid_gap": null,
      "grid_row": null,
      "grid_template_areas": null,
      "grid_template_columns": null,
      "grid_template_rows": null,
      "height": null,
      "justify_content": null,
      "justify_items": null,
      "left": null,
      "margin": null,
      "max_height": null,
      "max_width": null,
      "min_height": null,
      "min_width": null,
      "object_fit": null,
      "object_position": null,
      "order": null,
      "overflow": null,
      "overflow_x": null,
      "overflow_y": null,
      "padding": null,
      "right": null,
      "top": null,
      "visibility": null,
      "width": null
     }
    },
    "d2784ab1ac9046998e03e1f815adfd97": {
     "model_module": "@jupyter-widgets/controls",
     "model_module_version": "1.5.0",
     "model_name": "ProgressStyleModel",
     "state": {
      "_model_module": "@jupyter-widgets/controls",
      "_model_module_version": "1.5.0",
      "_model_name": "ProgressStyleModel",
      "_view_count": null,
      "_view_module": "@jupyter-widgets/base",
      "_view_module_version": "1.2.0",
      "_view_name": "StyleView",
      "bar_color": null,
      "description_width": ""
     }
    },
    "d333bdaef61f4790b55ce05b0504ad12": {
     "model_module": "@jupyter-widgets/controls",
     "model_module_version": "1.5.0",
     "model_name": "DescriptionStyleModel",
     "state": {
      "_model_module": "@jupyter-widgets/controls",
      "_model_module_version": "1.5.0",
      "_model_name": "DescriptionStyleModel",
      "_view_count": null,
      "_view_module": "@jupyter-widgets/base",
      "_view_module_version": "1.2.0",
      "_view_name": "StyleView",
      "description_width": ""
     }
    },
    "d574f7d99072432fa1c5ab1519980666": {
     "model_module": "@jupyter-widgets/controls",
     "model_module_version": "1.5.0",
     "model_name": "DescriptionStyleModel",
     "state": {
      "_model_module": "@jupyter-widgets/controls",
      "_model_module_version": "1.5.0",
      "_model_name": "DescriptionStyleModel",
      "_view_count": null,
      "_view_module": "@jupyter-widgets/base",
      "_view_module_version": "1.2.0",
      "_view_name": "StyleView",
      "description_width": ""
     }
    },
    "dafbd32a243641c78eb3e99c0d92f284": {
     "model_module": "@jupyter-widgets/base",
     "model_module_version": "1.2.0",
     "model_name": "LayoutModel",
     "state": {
      "_model_module": "@jupyter-widgets/base",
      "_model_module_version": "1.2.0",
      "_model_name": "LayoutModel",
      "_view_count": null,
      "_view_module": "@jupyter-widgets/base",
      "_view_module_version": "1.2.0",
      "_view_name": "LayoutView",
      "align_content": null,
      "align_items": null,
      "align_self": null,
      "border": null,
      "bottom": null,
      "display": null,
      "flex": null,
      "flex_flow": null,
      "grid_area": null,
      "grid_auto_columns": null,
      "grid_auto_flow": null,
      "grid_auto_rows": null,
      "grid_column": null,
      "grid_gap": null,
      "grid_row": null,
      "grid_template_areas": null,
      "grid_template_columns": null,
      "grid_template_rows": null,
      "height": null,
      "justify_content": null,
      "justify_items": null,
      "left": null,
      "margin": null,
      "max_height": null,
      "max_width": null,
      "min_height": null,
      "min_width": null,
      "object_fit": null,
      "object_position": null,
      "order": null,
      "overflow": null,
      "overflow_x": null,
      "overflow_y": null,
      "padding": null,
      "right": null,
      "top": null,
      "visibility": null,
      "width": null
     }
    },
    "dd41e2e3d892411bbe40ce9b4b26d862": {
     "model_module": "@jupyter-widgets/controls",
     "model_module_version": "1.5.0",
     "model_name": "HBoxModel",
     "state": {
      "_dom_classes": [],
      "_model_module": "@jupyter-widgets/controls",
      "_model_module_version": "1.5.0",
      "_model_name": "HBoxModel",
      "_view_count": null,
      "_view_module": "@jupyter-widgets/controls",
      "_view_module_version": "1.5.0",
      "_view_name": "HBoxView",
      "box_style": "",
      "children": [
       "IPY_MODEL_c8ad9333e5ca4c35a8323ef7fe7df138",
       "IPY_MODEL_61e333bcf66b4a2ab7a5745af9fb3e2f",
       "IPY_MODEL_232c94fd72de45bbb1511ece307f4d8f"
      ],
      "layout": "IPY_MODEL_9ca7c212f9a94318bbefc05fd2792cec"
     }
    },
    "e153e9638ca5485395794defc74daea2": {
     "model_module": "@jupyter-widgets/base",
     "model_module_version": "1.2.0",
     "model_name": "LayoutModel",
     "state": {
      "_model_module": "@jupyter-widgets/base",
      "_model_module_version": "1.2.0",
      "_model_name": "LayoutModel",
      "_view_count": null,
      "_view_module": "@jupyter-widgets/base",
      "_view_module_version": "1.2.0",
      "_view_name": "LayoutView",
      "align_content": null,
      "align_items": null,
      "align_self": null,
      "border": null,
      "bottom": null,
      "display": null,
      "flex": null,
      "flex_flow": null,
      "grid_area": null,
      "grid_auto_columns": null,
      "grid_auto_flow": null,
      "grid_auto_rows": null,
      "grid_column": null,
      "grid_gap": null,
      "grid_row": null,
      "grid_template_areas": null,
      "grid_template_columns": null,
      "grid_template_rows": null,
      "height": null,
      "justify_content": null,
      "justify_items": null,
      "left": null,
      "margin": null,
      "max_height": null,
      "max_width": null,
      "min_height": null,
      "min_width": null,
      "object_fit": null,
      "object_position": null,
      "order": null,
      "overflow": null,
      "overflow_x": null,
      "overflow_y": null,
      "padding": null,
      "right": null,
      "top": null,
      "visibility": null,
      "width": null
     }
    },
    "e28cb3051fdc446ead64576cd15e508d": {
     "model_module": "@jupyter-widgets/base",
     "model_module_version": "1.2.0",
     "model_name": "LayoutModel",
     "state": {
      "_model_module": "@jupyter-widgets/base",
      "_model_module_version": "1.2.0",
      "_model_name": "LayoutModel",
      "_view_count": null,
      "_view_module": "@jupyter-widgets/base",
      "_view_module_version": "1.2.0",
      "_view_name": "LayoutView",
      "align_content": null,
      "align_items": null,
      "align_self": null,
      "border": null,
      "bottom": null,
      "display": null,
      "flex": null,
      "flex_flow": null,
      "grid_area": null,
      "grid_auto_columns": null,
      "grid_auto_flow": null,
      "grid_auto_rows": null,
      "grid_column": null,
      "grid_gap": null,
      "grid_row": null,
      "grid_template_areas": null,
      "grid_template_columns": null,
      "grid_template_rows": null,
      "height": null,
      "justify_content": null,
      "justify_items": null,
      "left": null,
      "margin": null,
      "max_height": null,
      "max_width": null,
      "min_height": null,
      "min_width": null,
      "object_fit": null,
      "object_position": null,
      "order": null,
      "overflow": null,
      "overflow_x": null,
      "overflow_y": null,
      "padding": null,
      "right": null,
      "top": null,
      "visibility": null,
      "width": null
     }
    },
    "e8cd952346ce4fe4abd5112b6ce4b7aa": {
     "model_module": "@jupyter-widgets/base",
     "model_module_version": "1.2.0",
     "model_name": "LayoutModel",
     "state": {
      "_model_module": "@jupyter-widgets/base",
      "_model_module_version": "1.2.0",
      "_model_name": "LayoutModel",
      "_view_count": null,
      "_view_module": "@jupyter-widgets/base",
      "_view_module_version": "1.2.0",
      "_view_name": "LayoutView",
      "align_content": null,
      "align_items": null,
      "align_self": null,
      "border": null,
      "bottom": null,
      "display": null,
      "flex": null,
      "flex_flow": null,
      "grid_area": null,
      "grid_auto_columns": null,
      "grid_auto_flow": null,
      "grid_auto_rows": null,
      "grid_column": null,
      "grid_gap": null,
      "grid_row": null,
      "grid_template_areas": null,
      "grid_template_columns": null,
      "grid_template_rows": null,
      "height": null,
      "justify_content": null,
      "justify_items": null,
      "left": null,
      "margin": null,
      "max_height": null,
      "max_width": null,
      "min_height": null,
      "min_width": null,
      "object_fit": null,
      "object_position": null,
      "order": null,
      "overflow": null,
      "overflow_x": null,
      "overflow_y": null,
      "padding": null,
      "right": null,
      "top": null,
      "visibility": null,
      "width": null
     }
    },
    "ecb0ea0711004a609e7a2b5bbefe9866": {
     "model_module": "@jupyter-widgets/base",
     "model_module_version": "1.2.0",
     "model_name": "LayoutModel",
     "state": {
      "_model_module": "@jupyter-widgets/base",
      "_model_module_version": "1.2.0",
      "_model_name": "LayoutModel",
      "_view_count": null,
      "_view_module": "@jupyter-widgets/base",
      "_view_module_version": "1.2.0",
      "_view_name": "LayoutView",
      "align_content": null,
      "align_items": null,
      "align_self": null,
      "border": null,
      "bottom": null,
      "display": null,
      "flex": null,
      "flex_flow": null,
      "grid_area": null,
      "grid_auto_columns": null,
      "grid_auto_flow": null,
      "grid_auto_rows": null,
      "grid_column": null,
      "grid_gap": null,
      "grid_row": null,
      "grid_template_areas": null,
      "grid_template_columns": null,
      "grid_template_rows": null,
      "height": null,
      "justify_content": null,
      "justify_items": null,
      "left": null,
      "margin": null,
      "max_height": null,
      "max_width": null,
      "min_height": null,
      "min_width": null,
      "object_fit": null,
      "object_position": null,
      "order": null,
      "overflow": null,
      "overflow_x": null,
      "overflow_y": null,
      "padding": null,
      "right": null,
      "top": null,
      "visibility": null,
      "width": null
     }
    },
    "f6e3230294914a9093ee9a9e7ab301bd": {
     "model_module": "@jupyter-widgets/controls",
     "model_module_version": "1.5.0",
     "model_name": "FloatProgressModel",
     "state": {
      "_dom_classes": [],
      "_model_module": "@jupyter-widgets/controls",
      "_model_module_version": "1.5.0",
      "_model_name": "FloatProgressModel",
      "_view_count": null,
      "_view_module": "@jupyter-widgets/controls",
      "_view_module_version": "1.5.0",
      "_view_name": "ProgressView",
      "bar_style": "success",
      "description": "",
      "description_tooltip": null,
      "layout": "IPY_MODEL_b28376f78a034ac6b5778e3d783831f5",
      "max": 267832558,
      "min": 0,
      "orientation": "horizontal",
      "style": "IPY_MODEL_a5245355fffa40bea8544c54d21993ef",
      "value": 267832558
     }
    }
   }
  }
 },
 "nbformat": 4,
 "nbformat_minor": 0
}
